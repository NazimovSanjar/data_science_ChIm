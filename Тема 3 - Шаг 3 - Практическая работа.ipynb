{
 "cells": [
  {
   "cell_type": "code",
   "execution_count": 13,
   "metadata": {},
   "outputs": [],
   "source": [
    "'''1)Создайте функцию, которая принимает в качестве аргумента список целых чисел. \n",
    "В результате выполнения эта функция должна возвращать кортеж уникальных элементов списка в обратном порядке.'''\n",
    "\n",
    "def func1(list1):\n",
    "    b = set(list1)\n",
    "    c = tuple(b)\n",
    "    return c[::-1]\n",
    "    \n",
    "\n"
   ]
  },
  {
   "cell_type": "code",
   "execution_count": 14,
   "metadata": {},
   "outputs": [
    {
     "data": {
      "text/plain": [
       "(9, 8, 7, 6, 5, 4, 3, 2, 1, 0)"
      ]
     },
     "execution_count": 14,
     "metadata": {},
     "output_type": "execute_result"
    }
   ],
   "source": [
    "a1 = [0, 1, 2, 3, 4, 5, 6, 7, 8, 9, 9, 9]\n",
    "func1(a1)"
   ]
  },
  {
   "cell_type": "code",
   "execution_count": 18,
   "metadata": {},
   "outputs": [],
   "source": [
    "'''2)Создайте функцию, которая принимает на вход две строки и определяет, являются ли они анаграммами. \n",
    "Знаки препинания, пробелы и регистр при этом игнорируются.'''\n",
    "def func2(str1, str2):\n",
    "    str1 = str1.lower()\n",
    "    str2 = str2.lower()\n",
    "    s1 = list()\n",
    "    s2 = list()\n",
    "    for i in str1:\n",
    "        if i.isalpha():\n",
    "            s1.append(i)\n",
    "    for j in str2:\n",
    "        if j.isalpha():\n",
    "            s2.append(j)\n",
    "            \n",
    "    s1.sort()\n",
    "    s2.sort()\n",
    "    if s1 == s2:\n",
    "        return 'строки являются анаграммами'\n",
    "    else:\n",
    "        return 'Не являются анаграммами'\n",
    "    \n",
    "            \n",
    "\n",
    "\n"
   ]
  },
  {
   "cell_type": "code",
   "execution_count": 19,
   "metadata": {},
   "outputs": [
    {
     "name": "stdout",
     "output_type": "stream",
     "text": [
      "строки являются анаграммами\n"
     ]
    }
   ],
   "source": [
    "str1 = '!КЛОУН!'   \n",
    "str2 = '-- уклон --'   \n",
    "print(func2(str1, str2))"
   ]
  },
  {
   "cell_type": "code",
   "execution_count": 32,
   "metadata": {},
   "outputs": [],
   "source": [
    "'''3)Написать функцию, принимающую 1 аргумент - номер месяца (от 1 до 12), \n",
    "и возвращающую время года, которому этот месяц принадлежит (зима, весна, лето или осень).'''\n",
    "\n",
    "def month_number(n):\n",
    "    if n <= 0 or n > 12:\n",
    "        return 'нет такого месяца'\n",
    "    elif n == 12 or n == 1 or n == 2:\n",
    "        return 'зима'\n",
    "    elif n == 3 or n == 4 or n == 5:\n",
    "        return 'весна'\n",
    "    elif n == 6 or n == 7 or n == 8:\n",
    "        return 'дето'\n",
    "    elif n == 9 or n == 10 or n == 11:\n",
    "        return 'осень'\n",
    "    "
   ]
  },
  {
   "cell_type": "code",
   "execution_count": 36,
   "metadata": {},
   "outputs": [],
   "source": [
    "'''4)Написать функцию, которая определяет количество разрядов введенного целого числа.'''\n",
    "!!!!!\n",
    "def func4(int1):\n",
    "    return len(str(int1))"
   ]
  },
  {
   "cell_type": "code",
   "execution_count": 40,
   "metadata": {},
   "outputs": [],
   "source": [
    "'''5)Клиент делает вклад в размере X рублей сроком на Y лет под 10% годовых \n",
    "(каждый год размер его вклада увеличивается на 10%.\n",
    "Эти деньги прибавляются к сумме вклада, и на них в следующем году тоже будут проценты). \n",
    "Написать функцию bank(), принимающая аргументы X и Y, \n",
    "и возвращающую сумму, которая будет на счету пользователя.'''\n",
    "\n",
    "def bank(x, y):\n",
    "    i = 0\n",
    "    while i < y:\n",
    "        x *= 1.1\n",
    "        i += 1\n",
    "    return x "
   ]
  },
  {
   "cell_type": "code",
   "execution_count": 55,
   "metadata": {},
   "outputs": [],
   "source": [
    "'''6)Написать функцию arithmetic(), \n",
    "принимающую 3 аргумента: первые 2 - числа, третий - операция, которая должна быть произведена над ними. \n",
    "Если третий аргумент \"+\", сложить их; если \"-\", то вычесть; если \"*\", то умножить; если \"/\", \n",
    "то разделить (первое на второе). В остальных случаях вернуть строку \"Неизвестная операция\".'''\n",
    "\n",
    "def arithmetic(a, b, c):\n",
    "    \n",
    "    oper = ['+' , '-', '*', '/']\n",
    "    if str(c) in oper:\n",
    "        if str(c) == '+':\n",
    "            return a + b\n",
    "        elif str(c) == '-':\n",
    "            return a - b\n",
    "        elif str(c) == '*':\n",
    "            return a * b\n",
    "        elif str(c) == '/':\n",
    "            return a / b\n",
    "    else:\n",
    "        return 'Неизвестная операция'\n",
    "         \n",
    "a = int(input('Первое число'))\n",
    "b = int(input('Введите второе число'))\n",
    "if b == 0:\n",
    "    b = int(input('Введите второе число, не равное 0'))\n",
    "c = input('Ввведите тип операции')\n",
    "def arithmetic2(a, b, c):\n",
    "    if c == \"+\":\n",
    "        z = f'{a} {c} {b} = {a + b}'\n",
    "    elif c == \"-\":\n",
    "        z = f'{a} {c} {b} = {a - b}'\n",
    "    elif c == \"*\":\n",
    "        z = f'{a} {c} {b} = {a * b}'\n",
    "    elif c == \"/\":\n",
    "        z = f'{a} {c} {b} = {a / b}'\n",
    "    else:\n",
    "        z = \"Неизвестная операция\"\n",
    "    return z\n",
    "print(arithmetic(a, b, c))   \n",
    "    "
   ]
  },
  {
   "cell_type": "code",
   "execution_count": 20,
   "metadata": {},
   "outputs": [
    {
     "data": {
      "text/plain": [
       "1"
      ]
     },
     "execution_count": 20,
     "metadata": {},
     "output_type": "execute_result"
    }
   ],
   "source": [
    "'''7)Создайте функцию, вычисляющую факториал числа'''\n",
    "def factorial(n):\n",
    "    r = 1\n",
    "    for i in range(1, n+ 1):\n",
    "        r *= i\n",
    "    return r\n",
    "    \n",
    "n = int(input(\"Введите число - \"))\n",
    "def factorial2(n):\n",
    "    if n == 0:\n",
    "        f = 1\n",
    "    else:\n",
    "        f = n * factorial(n-1)\n",
    "    return f\n",
    "print(factorial(n))"
   ]
  },
  {
   "cell_type": "code",
   "execution_count": 70,
   "metadata": {},
   "outputs": [],
   "source": [
    "'''8)Создайте функцию, возводящую аргумент x в степень аргумента y при помощи рекурсии.'''\n",
    "def func8(x, y):\n",
    "    if y == 0 :\n",
    "        return 1\n",
    "    else:\n",
    "        return x * func8(x, y-1)\n",
    "\n",
    "    \n",
    "\n",
    "x = int(input(\"Введите число (основание)\"))\n",
    "y = int(input(\"Введите целое число (степень)\"))\n",
    "def power(x, y):\n",
    "    if y == 1:\n",
    "        p = x\n",
    "    else:\n",
    "        p = x * power(x, y-1)\n",
    "    return p\n",
    "print(power(x, y))    \n",
    "\n",
    "\n"
   ]
  },
  {
   "cell_type": "code",
   "execution_count": null,
   "metadata": {},
   "outputs": [],
   "source": [
    "'''9)Напишите функцию fib(), которая по данному целому неотрицательному n возвращает n-оe число Фибоначчи. \n",
    "В этой задаче нельзя использовать циклы, используйте рекурсию'''\n",
    "??????"
   ]
  },
  {
   "cell_type": "code",
   "execution_count": null,
   "metadata": {},
   "outputs": [],
   "source": [
    "'''10)На вход программе подаются два натуральных числа n и m. \n",
    "Напишите программу, которая создает матрицу размером n х m, заполнив ее по спирали числами от 1 до n x m. \n",
    "Спираль начинается в левом верхнем углу и закручивается по часовой стрелке.'''\n",
    "??????"
   ]
  },
  {
   "cell_type": "code",
   "execution_count": 22,
   "metadata": {},
   "outputs": [
    {
     "name": "stdout",
     "output_type": "stream",
     "text": [
      "carcat1234dog-+True\n"
     ]
    }
   ],
   "source": [
    "'''11)Написать функцию, которая принимает неограниченное число аргументов в виде строк или в виде чисел, и производит их конкатенацию. \n",
    "При реализации конкатенации пользоваться символом “+” нельзя. \n",
    "Функция должна возвращать строку, представляющую собой результат конкатенации всех веденных аргументов.'''\n",
    "\n",
    "def concatenations(*args):\n",
    "    new_str = []\n",
    "    for i in args:\n",
    "        for j in i:\n",
    "            new_str.append(j)\n",
    "    new_str = ''.join(new_str)\n",
    "    return new_str\n",
    "def concat(*args):\n",
    "    a = map(str, args)\n",
    "    b = ''.join(a)\n",
    "    return b\n",
    "print(concat('car', 'cat', 1234, 'dog', '-+', True))"
   ]
  },
  {
   "cell_type": "code",
   "execution_count": 24,
   "metadata": {},
   "outputs": [
    {
     "data": {
      "text/plain": [
       "30"
      ]
     },
     "execution_count": 24,
     "metadata": {},
     "output_type": "execute_result"
    }
   ],
   "source": [
    "'''12)Написать функцию, принимающую произвольное количество чисел и вычисляющую сумму их квадратов.'''\n",
    "\n",
    "def func12(*args):\n",
    "    n = []\n",
    "    for i in args:\n",
    "        n.append(i*i)\n",
    "    return (sum(n))\n",
    " \n"
   ]
  },
  {
   "cell_type": "code",
   "execution_count": 87,
   "metadata": {},
   "outputs": [
    {
     "data": {
      "text/plain": [
       "190"
      ]
     },
     "execution_count": 87,
     "metadata": {},
     "output_type": "execute_result"
    }
   ],
   "source": [
    "'''13)Написать функцию, которая принимает строку и удаляет в ней все «лишние» пробелы, \n",
    "то есть из нескольких подряд идущих пробелов оставляет только один.'''\n",
    "??????"
   ]
  },
  {
   "cell_type": "code",
   "execution_count": 25,
   "metadata": {},
   "outputs": [
    {
     "data": {
      "text/plain": [
       "'aaaaa'"
      ]
     },
     "execution_count": 25,
     "metadata": {},
     "output_type": "execute_result"
    }
   ],
   "source": [
    "'''14)Написать функцию, \n",
    "принимающую произвольное число слов в виде аргументов и возвращающую слово наибольшей длины.'''\n",
    "\n",
    "\n",
    "def func14(*args):\n",
    "    lens = 0\n",
    "    s = ''\n",
    "    for i in range(len(args)):\n",
    "        count = 0\n",
    "        count += len(args[i])\n",
    "        if lens < count:\n",
    "            lens = count\n",
    "            s = args[i]\n",
    "    return s   \n",
    "def func(*args):\n",
    "    word = ''\n",
    "    for i in args:\n",
    "        if len(i) > len(word):\n",
    "            word = i\n",
    "    return word\n",
    "print('Слово наибольшей длины:', func('aaaaa', 'aaaa', 'aa'))      \n",
    "        "
   ]
  },
  {
   "cell_type": "code",
   "execution_count": 99,
   "metadata": {},
   "outputs": [
    {
     "data": {
      "text/plain": [
       "'abcgdsfgdfgd'"
      ]
     },
     "execution_count": 99,
     "metadata": {},
     "output_type": "execute_result"
    }
   ],
   "source": [
    "'''15)Создать функцию, принимающую строку и применяющую к ней шифр \"Сэндвич\". \n",
    "То есть осуществить шифрование следующим образом: \n",
    "текст разбивается на две одинаковых по количеству символов части и результатом шифрования является строка, \n",
    "в которой символы из первой части чередуются символами из второй части.'''\n",
    "??????"
   ]
  },
  {
   "cell_type": "code",
   "execution_count": null,
   "metadata": {},
   "outputs": [],
   "source": [
    "'''16) Создать функцию, осуществляющую дешифрование шифра «Сэндвич».'''\n",
    "??????"
   ]
  }
 ],
 "metadata": {
  "kernelspec": {
   "display_name": "data_science_ChIm",
   "language": "python",
   "name": "data_science_chim"
  },
  "language_info": {
   "codemirror_mode": {
    "name": "ipython",
    "version": 3
   },
   "file_extension": ".py",
   "mimetype": "text/x-python",
   "name": "python",
   "nbconvert_exporter": "python",
   "pygments_lexer": "ipython3",
   "version": "3.11.5"
  }
 },
 "nbformat": 4,
 "nbformat_minor": 2
}
