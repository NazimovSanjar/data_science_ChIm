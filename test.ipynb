{
 "cells": [
  {
   "cell_type": "code",
   "execution_count": null,
   "metadata": {},
   "outputs": [],
   "source": [
    "print('Hello Wold')"
   ]
  }
 ],
 "metadata": {
  "kernelspec": {
   "display_name": "data_science_ChIm",
   "language": "python",
   "name": "data_science_chim"
  },
  "language_info": {
   "name": "python",
   "version": "3.11.5"
  }
 },
 "nbformat": 4,
 "nbformat_minor": 2
}
