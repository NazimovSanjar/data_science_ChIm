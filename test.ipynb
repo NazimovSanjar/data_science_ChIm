{
 "cells": [
  {
   "cell_type": "code",
   "execution_count": 8,
   "metadata": {},
   "outputs": [
    {
     "data": {
      "text/plain": [
       "True"
      ]
     },
     "execution_count": 8,
     "metadata": {},
     "output_type": "execute_result"
    }
   ],
   "source": [
    "a1 = [121, 144, 19, 161, 19, 144, 19, 11]\n",
    "a2 = [11*11, 121*121, 144*144, 190*190, 161*161, 19*19, 144*144, 19*19]\n",
    "\n",
    "\n",
    "def comp(array1, array2):\n",
    "    \n",
    "    for i in a2:\n",
    "        if i**0.5 in a1:\n",
    "            return True\n",
    "        else:\n",
    "            return False\n",
    "\n",
    "comp(a1, a2)"
   ]
  },
  {
   "cell_type": "code",
   "execution_count": 9,
   "metadata": {},
   "outputs": [
    {
     "data": {
      "text/plain": [
       "8"
      ]
     },
     "execution_count": 9,
     "metadata": {},
     "output_type": "execute_result"
    }
   ],
   "source": [
    "len(a1)"
   ]
  },
  {
   "cell_type": "code",
   "execution_count": null,
   "metadata": {},
   "outputs": [],
   "source": []
  }
 ],
 "metadata": {
  "kernelspec": {
   "display_name": "data_science_ChIm",
   "language": "python",
   "name": "data_science_chim"
  },
  "language_info": {
   "codemirror_mode": {
    "name": "ipython",
    "version": 3
   },
   "file_extension": ".py",
   "mimetype": "text/x-python",
   "name": "python",
   "nbconvert_exporter": "python",
   "pygments_lexer": "ipython3",
   "version": "3.11.5"
  }
 },
 "nbformat": 4,
 "nbformat_minor": 2
}
